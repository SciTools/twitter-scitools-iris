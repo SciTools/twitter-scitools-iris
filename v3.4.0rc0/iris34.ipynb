{
 "cells": [
  {
   "cell_type": "markdown",
   "id": "a45e09a4",
   "metadata": {},
   "source": [
    "You need an environment including the following packages:\n",
    "\n",
    "- iris `v3.4.0rc0` or higher\n",
    "- iris-sample-data\n",
    "- pandas"
   ]
  },
  {
   "cell_type": "code",
   "execution_count": null,
   "id": "5a7d0239",
   "metadata": {},
   "outputs": [],
   "source": [
    "import iris\n",
    "from iris import pandas as ipd"
   ]
  },
  {
   "cell_type": "code",
   "execution_count": null,
   "id": "f6fe6d72",
   "metadata": {},
   "outputs": [],
   "source": [
    "three_d_cube = iris.load_cube(iris.sample_data_path(\"A1B_north_america.nc\"))"
   ]
  },
  {
   "cell_type": "code",
   "execution_count": null,
   "id": "b14a6a63",
   "metadata": {},
   "outputs": [],
   "source": [
    "three_d_cube"
   ]
  },
  {
   "cell_type": "code",
   "execution_count": null,
   "id": "ea9c3694",
   "metadata": {},
   "outputs": [],
   "source": [
    "iris.FUTURE.pandas_ndim = True\n",
    "converted_dataframe = ipd.as_data_frame(three_d_cube)"
   ]
  },
  {
   "cell_type": "code",
   "execution_count": null,
   "id": "c8f73290",
   "metadata": {},
   "outputs": [],
   "source": [
    "converted_dataframe"
   ]
  },
  {
   "cell_type": "code",
   "execution_count": null,
   "id": "b63106fc",
   "metadata": {},
   "outputs": [],
   "source": [
    "three_d_cube.shape"
   ]
  },
  {
   "cell_type": "code",
   "execution_count": null,
   "id": "a203e2a6",
   "metadata": {},
   "outputs": [],
   "source": [
    "converted_dataframe.index.levshape"
   ]
  }
 ],
 "metadata": {
  "kernelspec": {
   "display_name": "iris34",
   "language": "python",
   "name": "iris34"
  },
  "language_info": {
   "codemirror_mode": {
    "name": "ipython",
    "version": 3
   },
   "file_extension": ".py",
   "mimetype": "text/x-python",
   "name": "python",
   "nbconvert_exporter": "python",
   "pygments_lexer": "ipython3",
   "version": "3.10.8"
  }
 },
 "nbformat": 4,
 "nbformat_minor": 5
}
